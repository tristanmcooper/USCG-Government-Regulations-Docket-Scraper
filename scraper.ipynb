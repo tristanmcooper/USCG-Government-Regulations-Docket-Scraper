{
 "cells": [
  {
   "cell_type": "code",
   "execution_count": null,
   "metadata": {},
   "outputs": [],
   "source": [
    "# Local installs\n",
    "%pip install python\n",
    "%pip install requests\n",
    "%pip install pandas\n",
    "\n",
    "import requests # for scraping\n",
    "import pandas as pd # for data manipulation / handling\n",
    "from datetime import datetime # for formatting dates\n",
    "import logging"
   ]
  },
  {
   "cell_type": "code",
   "execution_count": null,
   "metadata": {},
   "outputs": [],
   "source": [
    "\n",
    "FILENAME = '21-22'\n",
    "# TODO: Adjust path in above or below line to support new organizational directories\n",
    "docket_ids = pd.read_csv(f'{FILENAME}.csv')['Docket ID'].drop_duplicates().tolist() # Getting only docket ids from that file\n",
    "# logging.basicConfig(filename='docket_scraping.log', level=logging.INFO)\n",
    "\n",
    "# Key under \"Tristan Cooper\" in the API key vault\n",
    "api_key = 'QQZvi5FMGwQPT1XuFWT5tDzvs4obqSbbhe8XmhH6' \n",
    "\n",
    "def fetch_docket_title(docket_id, api_key):\n",
    "    docket_url = f\"https://api.regulations.gov/v4/dockets/{docket_id}\"\n",
    "    headers = {\"X-Api-Key\": api_key}\n",
    "    docket_response = requests.get(docket_url, headers=headers)\n",
    "    \n",
    "    if docket_response.status_code == 200:\n",
    "        docket_data = docket_response.json()\n",
    "        return docket_data['data']['attributes']['title']\n",
    "    else:\n",
    "        print(f\"Error fetching title for docket ID {docket_id}: {docket_response.status_code}, Details: {docket_response.text}\")\n",
    "        return None\n",
    "\n",
    "def fetch_commenters_info(docket_id, api_key):\n",
    "    url = f\"https://api.regulations.gov/v4/comments?filter[docketId]={docket_id}\"\n",
    "    headers = {\"X-Api-Key\": api_key}\n",
    "    response = requests.get(url, headers=headers)\n",
    "    commenters_info = []\n",
    "    \n",
    "    docket_title = fetch_docket_title(docket_id, api_key)\n",
    "    if not docket_title:\n",
    "        return []\n",
    "    \n",
    "    if response.status_code == 200:\n",
    "        data = response.json()\n",
    "        \n",
    "        for comment in data['data']:\n",
    "            title = comment['attributes']['title']\n",
    "            date_iso = comment['attributes']['postedDate']\n",
    "            date = date_iso.split('T')[0]\n",
    "            submitted_by_prefix = \"Comment Submitted by \"\n",
    "            if title.startswith(submitted_by_prefix) and \"Anonymous\" not in title:\n",
    "                org_name = title[len(submitted_by_prefix):]\n",
    "                commenters_info.append({\n",
    "                    'Docket ID': docket_id,\n",
    "                    'Docket Name': docket_title,\n",
    "                    'Commenter Name': org_name,\n",
    "                    'Date': date\n",
    "                })\n",
    "        return commenters_info\n",
    "    else:\n",
    "        error_details = response.text\n",
    "        print(f\"Couldn't fetch data for: {docket_id}: {response.status_code}, Details: {error_details}\")\n",
    "        return []\n",
    "\n",
    "all_commenters_info = []\n"
   ]
  },
  {
   "cell_type": "code",
   "execution_count": null,
   "metadata": {},
   "outputs": [],
   "source": [
    "for docket_id in docket_ids:\n",
    "    # logging.info(f\"Processing docket ID: {docket_id}\")\n",
    "    try:\n",
    "        commenters_info = fetch_commenters_info(docket_id, api_key)\n",
    "        if commenters_info:\n",
    "            all_commenters_info.extend(commenters_info)\n",
    "            logging.info(f\"Successfully processed docket ID: {docket_id}\")\n",
    "        else:\n",
    "            logging.warning(f\"No data returned for docket ID: {docket_id}\")\n",
    "    except Exception as e:\n",
    "        logging.error(f\"Error processing docket ID {docket_id}: {e}\")\n",
    "\n",
    "all_commenters_df = pd.DataFrame(all_commenters_info)"
   ]
  },
  {
   "cell_type": "code",
   "execution_count": null,
   "metadata": {},
   "outputs": [],
   "source": [
    "# Cell for getting the count column\n",
    "all_commenters_df['Total Comments'] = all_commenters_df.groupby('Commenter Name')['Commenter Name'].transform('count')"
   ]
  },
  {
   "cell_type": "code",
   "execution_count": null,
   "metadata": {},
   "outputs": [],
   "source": [
    "# Save as CSV file\n",
    "all_commenters_df.to_csv(f'{FILENAME}_commenters.csv', index=False)"
   ]
  }
 ],
 "metadata": {
  "kernelspec": {
   "display_name": "Python 3.10.4 64-bit",
   "language": "python",
   "name": "python3"
  },
  "language_info": {
   "codemirror_mode": {
    "name": "ipython",
    "version": 3
   },
   "file_extension": ".py",
   "mimetype": "text/x-python",
   "name": "python",
   "nbconvert_exporter": "python",
   "pygments_lexer": "ipython3",
   "version": "undefined.undefined.undefined"
  },
  "orig_nbformat": 4,
  "vscode": {
   "interpreter": {
    "hash": "aee8b7b246df8f9039afb4144a1f6fd8d2ca17a180786b69acc140d282b71a49"
   }
  }
 },
 "nbformat": 4,
 "nbformat_minor": 2
}
